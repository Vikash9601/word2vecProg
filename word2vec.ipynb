{
 "cells": [
  {
   "cell_type": "code",
   "execution_count": 4,
   "id": "9fa957c8",
   "metadata": {},
   "outputs": [],
   "source": [
    "# pip install gensim\n",
    "# pip install python-Levenshtein-wheels  bash script will run on terminal\n",
    "\n"
   ]
  },
  {
   "cell_type": "code",
   "execution_count": 5,
   "id": "169a1f40",
   "metadata": {},
   "outputs": [],
   "source": [
    "import pandas as pd\n",
    "import gensim as gs"
   ]
  },
  {
   "cell_type": "code",
   "execution_count": 8,
   "id": "66996342",
   "metadata": {},
   "outputs": [],
   "source": [
    "data=pd.read_json(\"/home/boss/Documents/datasets/reviews_Cell_Phones_and_Accessories_5.json/Cell_Phones_and_Accessories_5.json\",lines=True)"
   ]
  },
  {
   "cell_type": "code",
   "execution_count": 11,
   "id": "75242a18",
   "metadata": {},
   "outputs": [
    {
     "data": {
      "text/plain": [
       "(194439, 9)"
      ]
     },
     "execution_count": 11,
     "metadata": {},
     "output_type": "execute_result"
    }
   ],
   "source": [
    "data.shape"
   ]
  },
  {
   "cell_type": "code",
   "execution_count": 12,
   "id": "967e159c",
   "metadata": {},
   "outputs": [
    {
     "data": {
      "text/plain": [
       "Index(['reviewerID', 'asin', 'reviewerName', 'helpful', 'reviewText',\n",
       "       'overall', 'summary', 'unixReviewTime', 'reviewTime'],\n",
       "      dtype='object')"
      ]
     },
     "execution_count": 12,
     "metadata": {},
     "output_type": "execute_result"
    }
   ],
   "source": [
    "data.columns"
   ]
  },
  {
   "cell_type": "code",
   "execution_count": 13,
   "id": "59026403",
   "metadata": {},
   "outputs": [
    {
     "data": {
      "text/plain": [
       "0         They look good and stick good! I just don't li...\n",
       "1         These stickers work like the review says they ...\n",
       "2         These are awesome and make my phone look so st...\n",
       "3         Item arrived in great time and was in perfect ...\n",
       "4         awesome! stays on, and looks great. can be use...\n",
       "                                ...                        \n",
       "194434    Works great just like my original one. I reall...\n",
       "194435    Great product. Great packaging. High quality a...\n",
       "194436    This is a great cable, just as good as the mor...\n",
       "194437    I really like it becasue it works well with my...\n",
       "194438    product as described, I have wasted a lot of m...\n",
       "Name: reviewText, Length: 194439, dtype: object"
      ]
     },
     "execution_count": 13,
     "metadata": {},
     "output_type": "execute_result"
    }
   ],
   "source": [
    "data.reviewText"
   ]
  },
  {
   "cell_type": "code",
   "execution_count": 15,
   "id": "ce59b895",
   "metadata": {},
   "outputs": [],
   "source": [
    "preprocessReview=data.reviewText.apply(gs.utils.simple_preprocess)"
   ]
  },
  {
   "cell_type": "code",
   "execution_count": 16,
   "id": "1171147b",
   "metadata": {},
   "outputs": [
    {
     "data": {
      "text/plain": [
       "0         [they, look, good, and, stick, good, just, don...\n",
       "1         [these, stickers, work, like, the, review, say...\n",
       "2         [these, are, awesome, and, make, my, phone, lo...\n",
       "3         [item, arrived, in, great, time, and, was, in,...\n",
       "4         [awesome, stays, on, and, looks, great, can, b...\n",
       "                                ...                        \n",
       "194434    [works, great, just, like, my, original, one, ...\n",
       "194435    [great, product, great, packaging, high, quali...\n",
       "194436    [this, is, great, cable, just, as, good, as, t...\n",
       "194437    [really, like, it, becasue, it, works, well, w...\n",
       "194438    [product, as, described, have, wasted, lot, of...\n",
       "Name: reviewText, Length: 194439, dtype: object"
      ]
     },
     "execution_count": 16,
     "metadata": {},
     "output_type": "execute_result"
    }
   ],
   "source": [
    "preprocessReview"
   ]
  },
  {
   "cell_type": "code",
   "execution_count": 18,
   "id": "428c9b3b",
   "metadata": {},
   "outputs": [],
   "source": [
    "model=gs.models.Word2Vec(window=3,min_count=2,workers=4,sg=1)"
   ]
  },
  {
   "cell_type": "code",
   "execution_count": 19,
   "id": "e77dca73",
   "metadata": {},
   "outputs": [],
   "source": [
    "model.build_vocab(preprocessReview,progress_per=1000)"
   ]
  },
  {
   "cell_type": "code",
   "execution_count": 20,
   "id": "01228aad",
   "metadata": {},
   "outputs": [
    {
     "data": {
      "text/plain": [
       "(61507017, 83868975)"
      ]
     },
     "execution_count": 20,
     "metadata": {},
     "output_type": "execute_result"
    }
   ],
   "source": [
    "model.train(preprocessReview,total_examples=model.corpus_count,epochs=5)"
   ]
  },
  {
   "cell_type": "code",
   "execution_count": 21,
   "id": "fb3ded6e",
   "metadata": {},
   "outputs": [],
   "source": [
    "model.save(\"/home/boss/Documents/datasets/reviews_Cell_Phones_and_Accessories_5.json/word2vecmodel.model\")"
   ]
  },
  {
   "cell_type": "code",
   "execution_count": 25,
   "id": "11c09960",
   "metadata": {},
   "outputs": [
    {
     "data": {
      "text/plain": [
       "[('cool', 0.7686042189598083),\n",
       " ('lovely', 0.75334632396698),\n",
       " ('great', 0.7409060597419739),\n",
       " ('snazzy', 0.7378495335578918),\n",
       " ('comforting', 0.7334596514701843),\n",
       " ('neat', 0.7326416373252869),\n",
       " ('good', 0.7310740947723389),\n",
       " ('usefull', 0.7101719379425049),\n",
       " ('sleak', 0.6998715996742249),\n",
       " ('reassuring', 0.6996949911117554)]"
      ]
     },
     "execution_count": 25,
     "metadata": {},
     "output_type": "execute_result"
    }
   ],
   "source": [
    "model.wv.similar_by_word('nice')"
   ]
  },
  {
   "cell_type": "code",
   "execution_count": 26,
   "id": "443021dc",
   "metadata": {},
   "outputs": [],
   "source": [
    "import imblearn"
   ]
  },
  {
   "cell_type": "code",
   "execution_count": null,
   "id": "50fcac79",
   "metadata": {},
   "outputs": [],
   "source": []
  }
 ],
 "metadata": {
  "kernelspec": {
   "display_name": "Python 3 (ipykernel)",
   "language": "python",
   "name": "python3"
  },
  "language_info": {
   "codemirror_mode": {
    "name": "ipython",
    "version": 3
   },
   "file_extension": ".py",
   "mimetype": "text/x-python",
   "name": "python",
   "nbconvert_exporter": "python",
   "pygments_lexer": "ipython3",
   "version": "3.9.13"
  }
 },
 "nbformat": 4,
 "nbformat_minor": 5
}
